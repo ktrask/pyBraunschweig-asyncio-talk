{
 "cells": [
  {
   "cell_type": "markdown",
   "metadata": {
    "slideshow": {
     "slide_type": "slide"
    }
   },
   "source": [
    "# Asyncio\n",
    "## for back ends\n",
    "### Speaker: Helena Schmidt\n",
    "\n",
    "* https://www.helenaschmidt.eu\n",
    "* Freelance Data Scientist\n",
    "* Treasurer of Stratum 0\n"
   ]
  },
  {
   "cell_type": "markdown",
   "metadata": {
    "slideshow": {
     "slide_type": "slide"
    }
   },
   "source": [
    "# Part 1: Asyncio\n",
    "## What for?\n",
    "\n",
    "* Great for IO bound tasks\n",
    "* Don't use for CPU bound tasks\n",
    "* Not for doing things on different CPU cores in parallel (use multiprocessing for that)"
   ]
  },
  {
   "cell_type": "markdown",
   "metadata": {
    "slideshow": {
     "slide_type": "slide"
    }
   },
   "source": [
    "# Asyncio\n",
    "\n",
    "## What does it do?\n",
    "\n",
    " * You can create coroutines\n",
    " * When an IO task is triggered, they wait for the answer\n",
    " * During waiting, answers that are already retrieved can be processed\n"
   ]
  },
  {
   "cell_type": "markdown",
   "metadata": {
    "slideshow": {
     "slide_type": "slide"
    }
   },
   "source": [
    "# Example\n",
    "```python\n",
    "import asyncio\n",
    "async def printfoo(n):\n",
    "    await asyncio.sleep(n)\n",
    "    print(\"foo\")\n",
    "\n",
    "if __name__ == \"__main__\":\n",
    "    try:\n",
    "        loop = asyncio.get_event_loop()\n",
    "    except:\n",
    "        loop = asyncio.new_event_loop()\n",
    "    task = loop.create_task(printfoo(2))\n",
    "    loop.run_until_complete(task)\n",
    "```"
   ]
  },
  {
   "cell_type": "markdown",
   "metadata": {
    "slideshow": {
     "slide_type": "slide"
    }
   },
   "source": [
    "Define a coroutine"
   ]
  },
  {
   "cell_type": "code",
   "execution_count": null,
   "metadata": {
    "slideshow": {
     "slide_type": "fragment"
    }
   },
   "outputs": [],
   "source": [
    "async def foo():\n",
    "    print(\"bar\")"
   ]
  },
  {
   "cell_type": "code",
   "execution_count": null,
   "metadata": {
    "slideshow": {
     "slide_type": "fragment"
    }
   },
   "outputs": [],
   "source": [
    "# What happens when you run it?\n",
    "\n",
    "foo()"
   ]
  },
  {
   "cell_type": "code",
   "execution_count": null,
   "metadata": {
    "slideshow": {
     "slide_type": "fragment"
    }
   },
   "outputs": [],
   "source": [
    "foo()"
   ]
  },
  {
   "cell_type": "markdown",
   "metadata": {
    "slideshow": {
     "slide_type": "slide"
    }
   },
   "source": [
    "How to run a coroutine?"
   ]
  },
  {
   "cell_type": "markdown",
   "metadata": {
    "slideshow": {
     "slide_type": "fragment"
    }
   },
   "source": [
    "```python\n",
    "await foo()\n",
    "```"
   ]
  },
  {
   "cell_type": "markdown",
   "metadata": {
    "slideshow": {
     "slide_type": "fragment"
    }
   },
   "source": [
    "or create a background task:"
   ]
  },
  {
   "cell_type": "code",
   "execution_count": null,
   "metadata": {
    "slideshow": {
     "slide_type": "fragment"
    }
   },
   "outputs": [],
   "source": [
    "task = asyncio.create_task(foo()) # Python 3.7"
   ]
  },
  {
   "cell_type": "markdown",
   "metadata": {
    "slideshow": {
     "slide_type": "slide"
    }
   },
   "source": [
    "# Part 2: Using asyncio-web frameworks"
   ]
  },
  {
   "cell_type": "markdown",
   "metadata": {
    "slideshow": {
     "slide_type": "fragment"
    }
   },
   "source": [
    "* A website mostly waits for requests\n",
    "* But requests can come all at once\n",
    "* Frameworks like Flask create new threads to handle incoming requests"
   ]
  },
  {
   "cell_type": "markdown",
   "metadata": {
    "slideshow": {
     "slide_type": "fragment"
    }
   },
   "source": [
    "## Asyncio Web frameworks\n",
    "\n",
    "* Starlette\n",
    "* Quart\n",
    "* Blacksheep\n",
    "* Sanc\n",
    "* ... and many more"
   ]
  },
  {
   "cell_type": "markdown",
   "metadata": {
    "slideshow": {
     "slide_type": "slide"
    }
   },
   "source": [
    "## Sanic example\n",
    "\n",
    "```python\n",
    "from sanic import Sanic\n",
    "from sanic.response import json\n",
    "\n",
    "app = Sanic()\n",
    "\n",
    "@app.route('/')\n",
    "async def test(request):\n",
    "    return json({'hello': 'world'})\n",
    "\n",
    "if __name__ == '__main__':\n",
    "    app.run(host='0.0.0.0', port=8765)\n",
    "```"
   ]
  },
  {
   "cell_type": "markdown",
   "metadata": {
    "slideshow": {
     "slide_type": "slide"
    }
   },
   "source": [
    "# Asyncio\n",
    "## for back ends\n",
    "### Speaker: Helena Schmidt\n",
    "\n",
    "* https://www.helenaschmidt.eu\n",
    "* Freelance Data Scientist\n",
    "* Treasurer of Stratum 0\n",
    "\n",
    "### Thank you for your attention"
   ]
  }
 ],
 "metadata": {
  "celltoolbar": "Slideshow",
  "kernelspec": {
   "display_name": "Python 3",
   "language": "python",
   "name": "python3"
  },
  "language_info": {
   "codemirror_mode": {
    "name": "ipython",
    "version": 3
   },
   "file_extension": ".py",
   "mimetype": "text/x-python",
   "name": "python",
   "nbconvert_exporter": "python",
   "pygments_lexer": "ipython3",
   "version": "3.7.5"
  }
 },
 "nbformat": 4,
 "nbformat_minor": 2
}
